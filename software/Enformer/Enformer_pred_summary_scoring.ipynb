{
 "cells": [
  {
   "cell_type": "markdown",
   "id": "281886ba-b14b-43d4-9a38-fc59315fb0c2",
   "metadata": {},
   "source": [
    "# Processing Enformer predictions \n",
    "\n",
    "This script takes the raw predictions made for  EXTRA-seq fragments embedded in the endogenous AXIN2 locus using Enformer and extract the scores for the UTR (expression) and the local activities at the enhancer in GM12878."
   ]
  },
  {
   "cell_type": "code",
   "execution_count": 1,
   "id": "06759aeb-6f28-4a42-8df3-33888bbb3a3e",
   "metadata": {},
   "outputs": [
    {
     "data": {
      "text/plain": [
       "<contextlib.ExitStack at 0x14e8bc178cd0>"
      ]
     },
     "execution_count": 1,
     "metadata": {},
     "output_type": "execute_result"
    }
   ],
   "source": [
    "# for python\n",
    "import gc\n",
    "import itertools\n",
    "import matplotlib.pyplot as plt\n",
    "import numpy as np\n",
    "import random\n",
    "\n",
    "import pandas as pd\n",
    "import rpy2.rinterface as rinterface\n",
    "import rpy2.robjects as robjects\n",
    "import tqdm\n",
    "import seaborn as sns\n",
    "import scipy.stats as stats\n",
    "\n",
    "from itertools import compress\n",
    "from Bio import motifs\n",
    "from Bio.Seq import Seq #, IUPAC\n",
    "from collections import Counter\n",
    "from os import listdir\n",
    "from os.path import join\n",
    "from rpy2.robjects.packages import importr\n",
    "from rpy2.robjects import pandas2ri\n",
    "from scipy.stats import ks_2samp\n",
    "from statistics import mean, median\n",
    "\n",
    "%load_ext rpy2.ipython\n",
    "\n",
    "%matplotlib inline\n",
    "pandas2ri.activate()\n",
    "plt.ioff()"
   ]
  },
  {
   "cell_type": "code",
   "execution_count": 41,
   "id": "cf436cec-9bf8-4221-a1c0-91436f851f59",
   "metadata": {},
   "outputs": [],
   "source": [
    "%%R\n",
    "library(Biostrings)\n",
    "library(\"BSgenome.Hsapiens.UCSC.hg19\")\n",
    "library(tidyverse)\n",
    "library(dplyr)\n",
    "library(reshape2)\n",
    "\n",
    "\n",
    "# general functions\n",
    "makeTr <- function(someColor, alpha=100) scales::alpha(someColor, alpha/100)\n"
   ]
  },
  {
   "cell_type": "code",
   "execution_count": null,
   "id": "a0e25d60-be70-4e65-84dc-ddec8d44b415",
   "metadata": {},
   "outputs": [],
   "source": [
    "library(stringi)\n",
    "library(rtracklayer)\n",
    "library(ggplot2)\n",
    "library(patchwork)\n",
    "library(gplots)\n",
    "library(RColorBrewer)\n",
    "library(plotly)\n",
    "library(\"wesanderson\",lib.loc=\"/home/kribelba/R_libs/\")\n",
    "library(GenomicFeatures)\n",
    "library(\"TxDb.Hsapiens.UCSC.hg19.knownGene\")\n",
    "library('AnnotationHub')\n",
    "library(GO.db)\n",
    "library(org.Hs.eg.db)\n",
    "library(ChIPseeker)\n",
    "library(ggpubr)\n",
    "\n",
    "library(viridis)\n",
    "library(DESeq2)\n",
    "library(Rsubread)\n",
    "library(\"tximport\")\n",
    "library(\"readr\")\n",
    "library(biomaRt)\n",
    "library(ggbeeswarm)\n"
   ]
  },
  {
   "cell_type": "markdown",
   "id": "c271fb02-0373-4603-9717-313ecfe6198b",
   "metadata": {},
   "source": [
    "### Define sequence features"
   ]
  },
  {
   "cell_type": "code",
   "execution_count": 3,
   "id": "636aa354-26b2-4b20-afc3-0e6672bdee46",
   "metadata": {},
   "outputs": [
    {
     "name": "stdout",
     "output_type": "stream",
     "text": [
      "[1] 2846\n",
      "[1] 2851\n"
     ]
    }
   ],
   "source": [
    "%%R\n",
    "loxP = 'ATAACTTCGTATAATGTATGCTATACGAAGTTAT'\n",
    "lox22 = 'ATAACTTCGTATAGGATACTTTATACGAAGTTAT'\n",
    "# BC of length 10bp for 4.9, 12bp for 5.1,5.7,5.8 libs, 14bp for 3.8,3.98, 4.88 libs\n",
    "BC10 = paste(rep('N',10),collapse=\"\")\n",
    "BC12 = paste(rep('N',12),collapse=\"\")\n",
    "BC14 = paste(rep('N',14),collapse=\"\")\n",
    "\n",
    "#region inbetween the UTR and the enhancer\n",
    "ibtw_wt = 'GGTCTGTCCGTCATGCTGAGGGGTTATTTTTATTTCCCGGCTCTCGGGCTGTTACTGAGTTGCCAGGACCTTATCAAAGCGCAGCCGGCTCCAGCCGACTCCCCCGGGCCAGGCTCGCGGAGCCAGTGATCCCGCCGCGCCAATCACAGCCGCGCTCGGCCGGCCCGCGCCGCCCGCCTTAAAGGGACAGCGCCCCGCGCCCGCCCCGCCCCGCCCCGGCCCGCCCCCGCCGCACGCTCCGCTCCCGCGTTAACCCTTCCCCGGCCTCTCCTCCGCCCCCTGCCAGCCCCCCGCGGCCCCGAGGGCATTCTCAGCCCGAGTTCTGATTTCTTCTTTTAAGTTCTCCGGCCTCTTTGCTCCCGCCTCCTCCCCCTGCCTGCCCTCGCTCTCCCCGGCTCTGGAATGCAACAGTTTCTGGTAGCATTATGGCCATCGCAAGAACTGCAAGCAAGCAGATTTTTTTTTTTCTATCATCAAACGCTTTTCTACCTCTATTCAAGTTTCCCTGGGAATTTGGGCTTGGAGGACTTTATAAAGGGAGTTCCGGCCCTGGGGTTGGCTGGCCCGCTGTCATAGGGCGGACTCGGGCCCAGCCGCTGGAGGCGTGTGCATGCCTGTGCGCGCTTGTGCACGTGCATCTGAGTTCGGGTAAATATAGGACTGCAGTTGGTGGATGAATTGCGTTTGTGCATGTGTGAAAGTGGGGTGTGAATCCGCCAGTATAGGCCTGAGTGCTAACACCAGTTAGGAGGCATACCTCAGTGCCCTGAAGACCTAGGTCCAGCTTCCTAACCTGCTGGCCATAAGACCCTCGTAGCGGCACACATTGGCCATCTCTCCCAAACAACTGCATACCCGTTACTCTTCCAAAGTCCCCTCTTCTGCCATATGTTACATATTAAACCGATAGGAATATCTTTTTTCCCACTCCAAACGACAAGGCATGCATGCCGTTTTAATGTATCGAAAACTCCTCACCCCATTGTCACCTTTGAATTTCTCCCACATTTGCCCAAAAACGTTTATAAGGCACACACAACCTTCTCTTCTCCGTTAAAATGAGAAAATATGTCACAAACCCAGAGCATTGTGTATTTATTCTGCTGCTGCTATAGAATGATTCCTTATGTTATGAGCGAATAATTAACTTTTCTTCCTTTTAAAAAACAAAGGGCCGGGGACGGTGGCTCATGCCTGTAATCCCAGCATTTTGGGAGGCCCATGCTGGAGGATCATCTGAGGTCAGGAGTTCGAGACCAGCCTGCCTAATATGGCGAAACCCCGTCTCTACTAAAAATACAAAAATCAGCCGGGTGTGGTGGCACGTGCCTGTAGTCCCAGCTACTCGGGAGGCTGAGGCAGGAGAATCGCTTGAACCTAGGAGACGGGGGTGGGGGGGTTGCAGTGAGCCAAGATGGCACCACTGCACGCCAGGCTGGGTGACAAAGCGAGACTCCCTCAAAAAAAAAAAAAAAAAACACACACACACACACACATAAAGGTGTGAACCAAAGAGATCCAAGAAGTGAAAGGCAGAGTCCTGGCCTCAGAGCTGTGCAAGGCTCTTACTCTCCAACTTAATGGATGACGAGCCCTTTTAAATGCGAGATGGCCTGTCATTAGGCCTTCAGAACTTTAAAACATGCAAGAATTGTGGCTCTATCTAGGTATCCATAGAAAAAGAGAAGGAAGAGGCTGGGTGTGGTGGCTCACCCGTGTAATCCCAGCACTTCGGGAGGCCAAGGCAGGCGGATCACCTGAGGTCAGGCATTCGAGACCAGCCTGGCCAACATAGTGAAACCCTGTCCCTACTAAAACTACAAATATTAGCCAGGCGTGGTGGGGGGCGCCTGTAGTCCCAGCTACTCGGGAGGCTGAGGCAGGAGAATCATTTAAACACAGGAGGTTAAGGTTGCAGTGAGCCTGGGCGACAGAGCAAGACTCCATCTCAAAAAAAAAAAAGAAAAGAAAAAAAGAGGAGGAAGATCCACCACCCATGATCTGCTGGAAAGGGGCAGGTGGCAGGACTGTGCGCCACCTGCCCTCAGCCTAAGGGACTGTGACAAGGGACTAGAAAGCTCTTAGACTTTCTAGTCTAAGACTCTGGACTCTGGCTCGTGGGTGCCATGACAGGTGGCCGCTCCTCCCCAAAACCTGCCTTTCGGTGCCCATGGTCTGCAGCTCCAGGC'\n",
    "\n",
    "# specific to lib 5.1, 5.7 and 5.8 (synthetic and out-of-context enhancers\n",
    "art_E_end = 'GCAGTCCAGTGTACCACGTTG' #primer site added upstream of synthetic fragement for amplification\n",
    "\n",
    "# native Axin2 enhancer context\n",
    "BS_left_flank = 'GAGAGAGAAAAATCAAA' #flanking sequence to the left (downstream) of MEF2/indel location\n",
    "BS_right_flank = 'AATGTTCAGAAAAAAGAGG'#flanking sequence to the right (downstream) of MEF2/indel location\n",
    "\n",
    "# sequence of ALT/REF genotyeps starting from inbetween region\n",
    "alt = 'GGTCTGTCCGTCATGCTGAGGGGTTATTTTTATTTCCCGGCTCTCGGGCTGTTACTGAGTTGCCAGGACCTTATCAAAGCGCAGCCGGCTCCAGCCGACTCCCCCGGGCCAGGCTCGCGGAGCCAGTGATCCCGCCGCGCCAATCACAGCCGCGCTCGGCCGGCCCGCGCCGCCCGCCTTAAAGGGACAGCGCCCCGCGCCCGCCCCGCCCCGCCCCGGCCCGCCCCCGCCGCACGCTCCGCTCCCGCGTTAACCCTTCCCCGGCCTCTCCTCCGCCCCCTGCCAGCCCCCCGCGGCCCCGAGGGCATTCTCAGCCCGAGTTCTGATTTCTTCTTTTAAGTTCTCCGGCCTCTTTGCTCCCGCCTCCTCCCCCTGCCTGCCCTCGCTCTCCCCGGCTCTGGAATGCAACAGTTTCTGGTAGCATTATGGCCATCGCAAGAACTGCAAGCAAGCAGATTTTTTTTTTTCTATCATCAAACGCTTTTCTACCTCTATTCAAGTTTCCCTGGGAATTTGGGCTTGGAGGACTTTATAAAGGGAGTTCCGGCCCTGGGGTTGGCTGGCCCGCTGTCATAGGGCGGACTCGGGCCCAGCCGCTGGAGGCGTGTGCATGCCTGTGCGCGCTTGTGCACGTGCATCTGAGTTCGGGTAAATATAGGACTGCAGTTGGTGGATGAATTGCGTTTGTGCATGTGTGAAAGTGGGGTGTGAATCCGCCAGTATAGGCCTGAGTGCTAACACCAGTTAGGAGGCATACCTCAGTGCCCTGAAGACCTAGGTCCAGCTTCCTAACCTGCTGGCCATAAGACCCTCGTAGCGGCACACATTGGCCATCTCTCCCAAACAACTGCATACCCGTTACTCTTCCAAAGTCCCCTCTTCTGCCATATGTTACATATTAAACCGATAGGAATATCTTTTTTCCCACTCCAAACGACAAGGCATGCATGCCGTTTTAATGTATCGAAAACTCCTCACCCCATTGTCACCTTTGAATTTCTCCCACATTTGCCCAAAAACGTTTATAAGGCACACACAACCTTCTCTTCTCCGTTAAAATGAGAAAATATGTCACAAACCCAGAGCATTGTGTATTTATTCTGCTGCTGCTATAGAATGATTCCTTATGTTATGAGCGAATAATTAACTTTTCTTCCTTTTAAAAAACAAAGGGCCGGGGACGGTGGCTCATGCCTGTAATCCCAGCATTTTGGGAGGCCCATGCTGGAGGATCATCTGAGGTCAGGAGTTCGAGACCAGCCTGCCTAATATGGCGAAACCCCGTCTCTACTAAAAATACAAAAATCAGCCGGGTGTGGTGGCACGTGCCTGTAGTCCCAGCTACTCGGGAGGCTGAGGCAGGAGAATCGCTTGAACCTAGGAGACGGGGGTGGGGGGGTTGCAGTGAGCCAAGATGGCACCACTGCACGCCAGGCTGGGTGACAAAGCGAGACTCCCTCAAAAAAAAAAAAAAAAAACACACACACACACACACATAAAGGTGTGAACCAAAGAGATCCAAGAAGTGAAAGGCAGAGTCCTGGCCTCAGAGCTGTGCAAGGCTCTTACTCTCCAACTTAATGGATGACGAGCCCTTTTAAATGCGAGATGGCCTGTCATTAGGCCTTCAGAACTTTAAAACATGCAAGAATTGTGGCTCTATCTAGGTATCCATAGAAAAAGAGAAGGAAGAGGCTGGGTGTGGTGGCTCACCCGTGTAATCCCAGCACTTCGGGAGGCCAAGGCAGGCGGATCACCTGAGGTCAGGCATTCGAGACCAGCCTGGCCAACATAGTGAAACCCTGTCCCTACTAAAACTACAAATATTAGCCAGGCGTGGTGGGGGGCGCCTGTAGTCCCAGCTACTCGGGAGGCTGAGGCAGGAGAATCATTTAAACACAGGAGGTTAAGGTTGCAGTGAGCCTGGGCGACAGAGCAAGACTCCATCTCAAAAAAAAAAAAGAAAAGAAAAAAAGAGGAGGAAGATCCACCACCCATGATCTGCTGGAAAGGGGCAGGTGGCAGGACTGTGCGCCACCTGCCCTCAGCCTAAGGGACTGTGACAAGGGACTAGAAAGCTCTTAGACTTTCTAGTCTAAGACTCTGGACTCTGGCTCGTGGGTGCCATGACAGGTGGCCGCTCCTCCCCAAAACCTGCCTTTCGGTGCCCATGGTCTGCAGCTCCAGGCTCTCGACCCCAGGCAGCCAGGTTGGCATAAAGACAGCAGTACCAGCCCTGAAATGTGGCCCTGAAGCCAGCCAGGAAGGCCAGGGAAAGAGTGTGGCCCGATGACTCATCTTTGCCTTAGGACAACTGCTGGTGTGAGGAAACCAGTGGGCTCTAAAAGCCCCGGCCTGCTGGTATTCTGGGGGGTCAGTGGCCCATGGACCCTCTTAGCCACCAGCTCTGAGCTGGCCCAGGGCCAAGAACACAGCCACCACCTTTGGCCACCCCAGGAGTGCCAAGAGTAAAACTGTCACTGTGGTTCCAGGGAGTCTTTGGGCCACAGAGGGTGTTATTACTGGAACAGAAATGTAGACAGAGGGGTATGGATTGCCATAAAAGTGTCTACCATATAAACAACAGTAAAGTCACACACACACACACACACACACACACACACACACACACACACACAATGTGGGGGGTGGGGGAGAGAGAAAAATCAAAACATCTAAAAATAAACAATGTTCAGAAAAAAGAGGTTTTCAAAAAGGAAGTGGAAACTTGGTCTTTGTGGGTGGTTTTCCTCTCCTCCCAGTTGTCCCCACCGACCCGTCACTGCCTCCCCCAACCAGCCCTAATCACTGTAGGCTCAACTTTAACCAAAGGACTACCTCATTAT'\n",
    "ref = 'GGTCTGTCCGTCATGCTGAGGGGTTATTTTTATTTCCCGGCTCTCGGGCTGTTACTGAGTTGCCAGGACCTTATCAAAGCGCAGCCGGCTCCAGCCGACTCCCCCGGGCCAGGCTCGCGGAGCCAGTGATCCCGCCGCGCCAATCACAGCCGCGCTCGGCCGGCCCGCGCCGCCCGCCTTAAAGGGACAGCGCCCCGCGCCCGCCCCGCCCCGCCCCGGCCCGCCCCCGCCGCACGCTCCGCTCCCGCGTTAACCCTTCCCCGGCCTCTCCTCCGCCCCCTGCCAGCCCCCCGCGGCCCCGAGGGCATTCTCAGCCCGAGTTCTGATTTCTTCTTTTAAGTTCTCCGGCCTCTTTGCTCCCGCCTCCTCCCCCTGCCTGCCCTCGCTCTCCCCGGCTCTGGAATGCAACAGTTTCTGGTAGCATTATGGCCATCGCAAGAACTGCAAGCAAGCAGATTTTTTTTTTTCTATCATCAAACGCTTTTCTACCTCTATTCAAGTTTCCCTGGGAATTTGGGCTTGGAGGACTTTATAAAGGGAGTTCCGGCCCTGGGGTTGGCTGGCCCGCTGTCATAGGGCGGACTCGGGCCCAGCCGCTGGAGGCGTGTGCATGCCTGTGCGCGCTTGTGCACGTGCATCTGAGTTCGGGTAAATATAGGACTGCAGTTGGTGGATGAATTGCGTTTGTGCATGTGTGAAAGTGGGGTGTGAATCCGCCAGTATAGGCCTGAGTGCTAACACCAGTTAGGAGGCATACCTCAGTGCCCTGAAGACCTAGGTCCAGCTTCCTAACCTGCTGGCCATAAGACCCTCGTAGCGGCACACATTGGCCATCTCTCCCAAACAACTGCATACCCGTTACTCTTCCAAAGTCCCCTCTTCTGCCATATGTTACATATTAAACCGATAGGAATATCTTTTTTCCCACTCCAAACGACAAGGCATGCATGCCGTTTTAATGTATCGAAAACTCCTCACCCCATTGTCACCTTTGAATTTCTCCCACATTTGCCCAAAAACGTTTATAAGGCACACACAACCTTCTCTTCTCCGTTAAAATGAGAAAATATGTCACAAACCCAGAGCATTGTGTATTTATTCTGCTGCTGCTATAGAATGATTCCTTATGTTATGAGCGAATAATTAACTTTTCTTCCTTTTAAAAAACAAAGGGCCGGGGACGGTGGCTCATGCCTGTAATCCCAGCATTTTGGGAGGCCCATGCTGGAGGATCATCTGAGGTCAGGAGTTCGAGACCAGCCTGCCTAATATGGCGAAACCCCGTCTCTACTAAAAATACAAAAATCAGCCGGGTGTGGTGGCACGTGCCTGTAGTCCCAGCTACTCGGGAGGCTGAGGCAGGAGAATCGCTTGAACCTAGGAGACGGGGGTGGGGGGGTTGCAGTGAGCCAAGATGGCACCACTGCACGCCAGGCTGGGTGACAAAGCGAGACTCCCTCAAAAAAAAAAAAAAAAAACACACACACACACACACATAAAGGTGTGAACCAAAGAGATCCAAGAAGTGAAAGGCAGAGTCCTGGCCTCAGAGCTGTGCAAGGCTCTTACTCTCCAACTTAATGGATGACGAGCCCTTTTAAATGCGAGATGGCCTGTCATTAGGCCTTCAGAACTTTAAAACATGCAAGAATTGTGGCTCTATCTAGGTATCCATAGAAAAAGAGAAGGAAGAGGCTGGGTGTGGTGGCTCACCCGTGTAATCCCAGCACTTCGGGAGGCCAAGGCAGGCGGATCACCTGAGGTCAGGCATTCGAGACCAGCCTGGCCAACATAGTGAAACCCTGTCCCTACTAAAACTACAAATATTAGCCAGGCGTGGTGGGGGGCGCCTGTAGTCCCAGCTACTCGGGAGGCTGAGGCAGGAGAATCATTTAAACACAGGAGGTTAAGGTTGCAGTGAGCCTGGGCGACAGAGCAAGACTCCATCTCAAAAAAAAAAAAGAAAAGAAAAAAAGAGGAGGAAGATCCACCACCCATGATCTGCTGGAAAGGGGCAGGTGGCAGGACTGTGCGCCACCTGCCCTCAGCCTAAGGGACTGTGACAAGGGACTAGAAAGCTCTTAGACTTTCTAGTCTAAGACTCTGGACTCTGGCTCGTGGGTGCCATGACAGGTGGCCGCTCCTCCCCAAAACCTGCCTTTCGGTGCCCATGGTCTGCAGCTCCAGGCTCTCGACCCCAGGCAGCCAGGTTGGCATAAAGACAGCAGTACCAGCCCTGAAATGTGGCCCTGAAGCCAGCCAGGAAGGCCAGGGAAAGAGTGTGGCCCGATGACTCATCTTTGCCTTAGGACAACTGCTGGTGTGAGGAAACCAGTGGGCTCTAAAAGCCCCGGCCTGCTGGTATTCTGGGGGGTCAGTGGCCCATGGACCCTCTTAGCCACCAGCTCTGAGCTGGCCCAGGGCCAAGAACACAGCCACCACCTTTGGCCACCCCAGGAGTGCCAAGAGTAAAACTGTCACTGTGGTTCCAGGGAGTCTTTGGGCCACAGAGGGTGTTATTACTGGAACAGAAATGTAGACAGAGGGGTATGGATTGCCATAAAAGTGTCTACCATATAAACAACAGTAAAGTCACACACACACACACACACACACACACACACACACACACACACACAATGTGGGGGGTGGGGGAGAGAGAAAAATCAAAACATCTAAAATCAAAATAAACAATGTTCAGAAAAAAGAGGTTTTCAAAAAGGAAGTGGAAACTTGGTCTTTGTGGGTGGTTTTCCTCTCCTCCCAGTTGTCCCCACCGACCCGTCACTGCCTCCCCCAACCAGCCCTAATCACTGTAGGCTCAACTTTAACCAAAGGACTACCTCATTAT'\n",
    "print(nchar(alt))\n",
    "print(nchar(ref))"
   ]
  },
  {
   "cell_type": "markdown",
   "id": "d585ba53-991b-41bf-a7d9-78642f3814b6",
   "metadata": {},
   "source": [
    "## Using 10 independent positional input seq encodings"
   ]
  },
  {
   "cell_type": "code",
   "execution_count": 9,
   "id": "d45b8c23-4856-4df2-9820-4a657fe22c0d",
   "metadata": {},
   "outputs": [
    {
     "name": "stdout",
     "output_type": "stream",
     "text": [
      "          X        X0         X1         X2        X3\n",
      "3843835 890 0.1114654 0.04577652 0.04156170 0.3506854\n",
      "3843836 891 0.1559188 0.06310277 0.10773227 0.4520571\n",
      "3843837 892 0.1542170 0.07039242 0.04286680 0.5037035\n",
      "3843838 893 0.1614316 0.07651050 0.43545747 0.5424047\n",
      "3843839 894 0.1480612 0.06093595 0.06308208 0.4249329\n",
      "3843840 895 0.1102044 0.04231025 0.05482549 0.3654277\n",
      "        X                                                               id\n",
      "4285 1424             CGislandDel-AHR_TF65_AHR_shiftbin_59_bc_TAGCTTAGTTAG\n",
      "4286 1425              CGislandDel-AHR_AHR_AHR_shiftbin_59_bc_TAGCTTAGTTAG\n",
      "4287 1426           CGislandDel-IRF2_IRF2_IRF2_shiftbin_59_bc_TAGCTTAGTTAG\n",
      "4288 1427       CGislandDel-MF2A_TF65_FX1_TF65_shiftbin_59_bc_TAGCTTAGTTAG\n",
      "4289 1428  CGislandDel-MEF2A_PU1_FX1_BCH1_TF65_shiftbin_59_bc_TAGCTTAGTTAG\n",
      "4290 1429 CGislandDel-MEF2A_PU1_FX1_BCH1_MEF2A_shiftbin_59_bc_TAGCTTAGTTAG\n"
     ]
    }
   ],
   "source": [
    "%%R\n",
    "# First load enformer predictions and the seqeunce predictions were derived from\n",
    "\n",
    "files = list.files('/home/kribelba/updepla/users/kribelba/RMCE_results/Enformer_Axin2_pred/pred_Enformer/2024_10_21/',full.names=T)\n",
    "\n",
    "#files = list.files('path_to_prediction_files')\n",
    "pred57 = read.csv(files[grep('688_lib_5p7',files)],header=T)\n",
    "lab57 = read.csv(files[grep('seqs_lib_5p7',files)],header=T)\n",
    "print(tail(pred57))\n",
    "print(tail(lab57[,1:2]))\n"
   ]
  },
  {
   "cell_type": "code",
   "execution_count": 10,
   "id": "8487e43b-7a9e-4286-b512-89ff7c393d02",
   "metadata": {},
   "outputs": [],
   "source": [
    "%%R\n",
    "\n",
    "# annotate predictions with positional encoding and BCs, etc\n",
    "annotate_pred = function(pred,lab){\n",
    "    # this takes the predictions (pred) and seqeunces with labels (lab) from above and adds labels to the prediciton files\n",
    "\n",
    "    predn=pred\n",
    "    colnames(predn) = c('bin','DNAse12','DNAse69','CAGE','H3K27ac') #rename column base on the enformer heads used for predictions\n",
    "    nbins = dim(predn)[1]/length(lab[,1]) # how many unique prediciton bins for one particular sequence shift\n",
    "        \n",
    "    predn$id = unlist(lapply(lab$id,function(x){rep(x,nbins)})) # ad label to each prediction bin\n",
    "    predn$geno = sapply(predn$id,function(x){\n",
    "        s=strsplit(x,split=\"_\")[[1]]\n",
    "        return(paste(s[1:(length(s)-4)],collapse=\"_\"))}) # add genotype to each pred bin\n",
    "    predn$BC =sapply(predn$id,function(x){\n",
    "        s=strsplit(x,split=\"_\")[[1]]\n",
    "        return(s[(length(s))])})     # add BC info\n",
    "    predn$shiftpos =sapply(predn$id,function(x){\n",
    "        s=strsplit(x,split=\"_\")[[1]]\n",
    "        return(s[(length(s)-2)])})   # add pred shift position (10 shifts total)\n",
    "    predn$geno_pos = paste0(predn$geno,\"_\",predn$shiftpos)\n",
    "    return(predn)\n",
    "}"
   ]
  },
  {
   "cell_type": "code",
   "execution_count": 11,
   "id": "596f6b2a-ecba-4635-acc4-239b8d453d24",
   "metadata": {},
   "outputs": [
    {
     "name": "stdout",
     "output_type": "stream",
     "text": [
      "  bin    DNAse12    DNAse69       CAGE   H3K27ac\n",
      "1   0 0.12998750 0.04128101 0.04474570 0.4951257\n",
      "2   1 0.08336915 0.02329321 0.06095159 0.2486073\n",
      "3   2 0.01844230 0.01896473 0.02674513 0.2288125\n",
      "4   3 0.02245893 0.02418058 0.03271722 0.3372698\n",
      "5   4 0.04622030 0.01923825 0.05697825 0.1927668\n",
      "6   5 0.06100839 0.01465900 0.04428573 0.2032412\n",
      "                                id geno           BC shiftpos geno_pos\n",
      "1 ref_shiftbin_121_bc_AGACCGGTCGTA  ref AGACCGGTCGTA      121  ref_121\n",
      "2 ref_shiftbin_121_bc_AGACCGGTCGTA  ref AGACCGGTCGTA      121  ref_121\n",
      "3 ref_shiftbin_121_bc_AGACCGGTCGTA  ref AGACCGGTCGTA      121  ref_121\n",
      "4 ref_shiftbin_121_bc_AGACCGGTCGTA  ref AGACCGGTCGTA      121  ref_121\n",
      "5 ref_shiftbin_121_bc_AGACCGGTCGTA  ref AGACCGGTCGTA      121  ref_121\n",
      "6 ref_shiftbin_121_bc_AGACCGGTCGTA  ref AGACCGGTCGTA      121  ref_121\n"
     ]
    }
   ],
   "source": [
    "%%R\n",
    "# now annotate\n",
    "pred57=annotate_pred(pred57,lab57)\n",
    "head(pred57)\n"
   ]
  },
  {
   "cell_type": "code",
   "execution_count": 13,
   "id": "e4c6e9fd-03df-4dea-a40e-2d5221725775",
   "metadata": {},
   "outputs": [
    {
     "name": "stdout",
     "output_type": "stream",
     "text": [
      "[1] \"total_bins = 3072\"\n",
      "[1] \"bins with predictions = 896\"\n",
      "[1] \"seq length with predictions = 114688\"\n",
      "[1] \"bins without predictions = 1088\"\n",
      "[1] \"seq length without predictions = 139264\"\n"
     ]
    }
   ],
   "source": [
    "%%R\n",
    "\n",
    "# step 1: find the right bin\n",
    "\n",
    "total_bins = (393216/128) # input lenght divided by bin lenght\n",
    "print(paste0('total_bins = ',total_bins))\n",
    "\n",
    "outbin = sum(pred57$id==unique(pred57$id)[1]) # number of bins for which predictions exist\n",
    "print(paste0('bins with predictions = ',outbin))\n",
    "outlength = outbin*128 # total sequence length for which predicition exists = outbin * bin length\n",
    "print(paste0('seq length with predictions = ',outlength))\n",
    "\n",
    "empty_bins = (total_bins-outbin)/2 # the number of flanking seq bins for which no prediciton exists\n",
    "print(paste0('bins without predictions = ',empty_bins))\n",
    "#1088.0 # 1088 bins are used as 'padding'\n",
    "empty_seqlen = 1088*128 # seq length of those empty bins on each side\n",
    "print(paste0('seq length without predictions = ',empty_seqlen))\n"
   ]
  },
  {
   "cell_type": "code",
   "execution_count": 15,
   "id": "304899e8-f6c2-40b0-b91b-d1790c7c3465",
   "metadata": {},
   "outputs": [],
   "source": [
    "%%R\n",
    "pred_seq57 = subseq(DNAStringSet(lab57[1:(dim(lab57)[1]/3),3]),empty_seqlen+1,empty_seqlen+outlength) # the actual sequence for which predicitons exists\n",
    "names(pred_seq57) = lab57[1:(dim(lab57)[1]/3),2]\n"
   ]
  },
  {
   "cell_type": "code",
   "execution_count": 16,
   "id": "9f6d17d2-aa0d-4796-ac23-682c34522277",
   "metadata": {},
   "outputs": [
    {
     "name": "stdout",
     "output_type": "stream",
     "text": [
      "DNAStringSet object of length 6:\n",
      "     width seq                                              names               \n",
      "[1] 114688 CCCAGTTGTTTTAAGAATGTATA...TGAGGCACCACGCCTGGCCCGC ref_shiftbin_121_...\n",
      "[2] 114688 CCCAGTTGTTTTAAGAATGTATA...CACCACGCCTGGCCCGCACTCT alt_shiftbin_121_...\n",
      "[3] 114688 CCCAGTTGTTTTAAGAATGTATA...GTTAGGAGACAGCACTTCTCCT wt-FX1_DBP_FX1_sh...\n",
      "[4] 114688 CCCAGTTGTTTTAAGAATGTATA...TCCTATTTAGAACCCTCTTATG wt-CTCF_in_shiftb...\n",
      "[5] 114688 CCCAGTTGTTTTAAGAATGTATA...TCCTATTTAGAACCCTCTTATG wt-CTCF_out_shift...\n",
      "[6] 114688 CCCAGTTGTTTTAAGAATGTATA...CTCTCAGGTTAGGAGACAGCAC wt-FX1_BATF_FX1_s...\n"
     ]
    }
   ],
   "source": [
    "%%R\n",
    "head(pred_seq57)"
   ]
  },
  {
   "cell_type": "code",
   "execution_count": 18,
   "id": "25428e93-ec37-43e9-af2e-67cc740f40b2",
   "metadata": {},
   "outputs": [],
   "source": [
    "%%R\n",
    "# split into seqeunces that have synthetic fragements and ref/alt which is the endogenous enhancer\n",
    "pred_seq57nra= pred_seq57[setdiff(1:length(pred_seq57),unlist(lapply(c('ref','alt'),function(x){grep(x,names(pred_seq57))})))]\n",
    "pred_seq57ra= pred_seq57[unlist(lapply(c('ref','alt'),function(x){grep(x,names(pred_seq57))}))]\n"
   ]
  },
  {
   "cell_type": "code",
   "execution_count": 27,
   "id": "a4f36283-1a75-49f8-acb0-1238c056028c",
   "metadata": {},
   "outputs": [],
   "source": [
    "# define patterns for UTR and enhancer\n",
    "down_DPE = 'CAAAGCGCAGCCGGCTCCAGC' #This sequence is downstream of the DPE motif right in the 5'UTR\n",
    "ibtw_DPEINR = 'CCCCCGGGCCAG'\n",
    "ibtw_DPEINR_alt='GCTCGCGGAGCC'\n",
    "ri_bin = 'ATGTTCAGAAAAA' # this seq is upstream of the TFBS modification within the native AXIN2 enhancer\n",
    "le_bin = 'GAAAAATCAA' # this seq is upstream of the TFBS modification within the native AXIN2 enhancer\n",
    "art_enh_bef = 'TGCCCATGGTCT'\n",
    "art_enh_bef2= 'GCAGCTCCAGGC'\n"
   ]
  },
  {
   "cell_type": "code",
   "execution_count": 30,
   "id": "66458dae-c43a-4a55-a6ef-37c99d702aa1",
   "metadata": {},
   "outputs": [],
   "source": [
    "%%R\n",
    "\n",
    "get_bin_alt = function(dnaseq,string,altstring){\n",
    "    # this function finds the bin in which a particular sequence is found\n",
    "    # if seq-pattern is split by a bin, input a modified pattern\n",
    "    vp=Views(DNAString(as.character(dnaseq)),start = seq(1,width(dnaseq),128),end = seq(128,width(dnaseq)+1,128))\n",
    "    g=grep(string,as.character(vp))\n",
    "    ga=grep(altstring,as.character(vp)) \n",
    "    if (length(g)>0){gg=g}\n",
    "    if (length(g)==0){gg=ga}\n",
    "    return(gg-1) # -1 for python indexing\n",
    "}\n",
    "\n",
    "# functions to identify bin \n",
    "annotate_bins_alt = function(pred,predseq,utrseq,utrseq_alt,enhseq,enhseq_alt,ext_bin_UTR,ext_bin_enh){\n",
    "    # this function annotates the prediction file to indicate which of the bins represent the UTR (expression) or the local enhancer)\n",
    "    # it has two options in case the seqeunce that is being searched falls inbetween two bins\n",
    "    utr_bin = sapply(1:length(predseq),function(x){get_bin_alt(predseq[x],utrseq,utrseq_alt)})\n",
    "    enh_bin = sapply(1:length(predseq),function(x){get_bin_alt(predseq[x],enhseq,enhseq_alt)})\n",
    "    bindf = data.frame(id = names(predseq),bin_DPE = utr_bin,binBS =enh_bin )\n",
    "    bindf$geno = unlist(lapply(bindf$id,function(x){i=strsplit(x,split=\"_\")[[1]]\n",
    "                                                     paste(i[c(1:(length(i)-4),(length(i)-2))],collapse=\"_\")}))\n",
    "    predn=pred\n",
    "    predn$BSbin = bindf$binBS[match(predn$geno_pos,bindf$geno)]\n",
    "    predn$is_BSbin = predn$bin == predn$BSbin\n",
    "    predn$is_extBSbin = abs(predn$bin-predn$BSbin) <= ext_bin_enh\n",
    "    predn$UTRbin = bindf$bin_DPE[match(predn$geno_pos,bindf$geno)]\n",
    "    predn$is_UTRbin = predn$bin == predn$UTRbin\n",
    "    predn$is_extUTRbin = abs(predn$bin-predn$UTRbin) <= ext_bin_UTR\n",
    "    #predn$geno_bin = paste0(predn$geno,'_',predn$bin)\n",
    "    return(predn)}\n",
    "\n",
    "annotate_bins_twoways_alt = function(pred,predseq,utrseq,utrseq_alt,enhseq,enhseq_alt,ext_bin_UTR,ext_bin_enh){\n",
    "    # this function annotates the prediction file to indicate which of the bins represent the UTR (expression) or the local enhancer)\n",
    "    # it has two options in case the seqeunce that is being searched falls inbetween two bins\n",
    "    # this one is allows a more flexible binning for the synthetic enhancer region\n",
    "    utr_bin = sapply(1:length(predseq),function(x){get_bin_alt(predseq[x],utrseq,utrseq_alt)})\n",
    "    enh_bin = sapply(1:length(predseq),function(x){get_bin_alt(predseq[x],enhseq,enhseq_alt)})\n",
    "    bindf = data.frame(id = names(predseq),bin_DPE = utr_bin,binBS =enh_bin )\n",
    "    bindf$geno = unlist(lapply(bindf$id,function(x){i=strsplit(x,split=\"_\")[[1]]\n",
    "                                                     paste(i[c(1:(length(i)-4),(length(i)-2))],collapse=\"_\")}))\n",
    "    predn=pred\n",
    "    predn$BSbin = bindf$binBS[match(predn$geno_pos,bindf$geno)]\n",
    "    predn$is_BSbin = predn$bin == predn$BSbin\n",
    "    predn$is_extBSbin = (predn$bin-predn$BSbin) %in% ext_bin_enh\n",
    "    predn$UTRbin = bindf$bin_DPE[match(predn$geno_pos,bindf$geno)]\n",
    "    predn$is_UTRbin = predn$bin == predn$UTRbin\n",
    "    predn$is_extUTRbin = (predn$bin-predn$UTRbin) %in% ext_bin_UTR\n",
    "    #predn$geno_bin = paste0(predn$geno,'_',predn$bin)\n",
    "    return(predn)}\n"
   ]
  },
  {
   "cell_type": "code",
   "execution_count": 35,
   "id": "52aec71d-d5cd-4074-93ca-9eb9017e0be3",
   "metadata": {},
   "outputs": [
    {
     "name": "stdout",
     "output_type": "stream",
     "text": [
      "[1] 53760    10\n",
      "[1] 3790080      10\n",
      "  bin    DNAse12    DNAse69       CAGE   H3K27ac\n",
      "1   0 0.12998750 0.04128101 0.04474570 0.4951257\n",
      "2   1 0.08336915 0.02329321 0.06095159 0.2486073\n",
      "3   2 0.01844230 0.01896473 0.02674513 0.2288125\n",
      "4   3 0.02245893 0.02418058 0.03271722 0.3372698\n",
      "5   4 0.04622030 0.01923825 0.05697825 0.1927668\n",
      "6   5 0.06100839 0.01465900 0.04428573 0.2032412\n",
      "                                id geno           BC shiftpos geno_pos BSbin\n",
      "1 ref_shiftbin_121_bc_AGACCGGTCGTA  ref AGACCGGTCGTA      121  ref_121   495\n",
      "2 ref_shiftbin_121_bc_AGACCGGTCGTA  ref AGACCGGTCGTA      121  ref_121   495\n",
      "3 ref_shiftbin_121_bc_AGACCGGTCGTA  ref AGACCGGTCGTA      121  ref_121   495\n",
      "4 ref_shiftbin_121_bc_AGACCGGTCGTA  ref AGACCGGTCGTA      121  ref_121   495\n",
      "5 ref_shiftbin_121_bc_AGACCGGTCGTA  ref AGACCGGTCGTA      121  ref_121   495\n",
      "6 ref_shiftbin_121_bc_AGACCGGTCGTA  ref AGACCGGTCGTA      121  ref_121   495\n",
      "  is_BSbin is_extBSbin UTRbin is_UTRbin is_extUTRbin\n",
      "1    FALSE       FALSE    475     FALSE        FALSE\n",
      "2    FALSE       FALSE    475     FALSE        FALSE\n",
      "3    FALSE       FALSE    475     FALSE        FALSE\n",
      "4    FALSE       FALSE    475     FALSE        FALSE\n",
      "5    FALSE       FALSE    475     FALSE        FALSE\n",
      "6    FALSE       FALSE    475     FALSE        FALSE\n",
      "\n",
      "    489     490     491     492     495 \n",
      "1010688  252672 2274048  252672   53760 \n",
      "\n",
      "    475 \n",
      "3843840 \n"
     ]
    }
   ],
   "source": [
    "%%R\n",
    "#anotate\n",
    "# split into predictions that have synthetic fragements and ref/alt which is the endogenous enhancer\n",
    "\n",
    "pred57sra = pred57[pred57$geno %in% c('ref','alt'),]\n",
    "pred57sart = pred57[!(pred57$geno %in% c('ref','alt')),]\n",
    "print(dim(pred57sra))\n",
    "print(dim(pred57sart))\n",
    "\n",
    "down_DPE = 'CAAAGCGCAGCCGGCTCCAGC' #This sequence is downstream of the DPE motif right in the 5'UTR\n",
    "ibtw_DPEINR = 'CCCCCGGGCCAG'\n",
    "ibtw_DPEINR_alt='GCTCGCGGAGCC'\n",
    "ri_bin = 'ATGTTCAGAAAAA' # this seq is upstream of the TFBS modification within the native AXIN2 enhancer\n",
    "le_bin = 'GAAAAATCAA' # this seq is upstream of the TFBS modification within the native AXIN2 enhancer\n",
    "art_enh_bef = 'TGCCCATGGTCT'\n",
    "art_enh_bef2= 'GCAGCTCCAGGC'\n",
    "\n",
    "#annotate ref/alt and the synthetic enahancers\n",
    "pred57ra = annotate_bins_alt(pred57sra,pred_seq57ra,ibtw_DPEINR,ibtw_DPEINR_alt,le_bin,ri_bin,1,3)                                                \n",
    "pred57art = annotate_bins_twoways_alt(pred57sart,pred_seq57nra,ibtw_DPEINR,ibtw_DPEINR_alt,art_enh_bef,art_enh_bef2,seq(-1,1,1),seq(-2,4))                                                \n",
    "\n",
    "pred57a = rbind(pred57ra,pred57art)\n",
    "print(head(pred57a))\n",
    "\n",
    "print(table(pred57a$BSbin)) # there are several locations where the \"enhancer bins\" are located, since the distance to the syn and endogenous enhancers vary in length and the genotypes containgin the GCdel promoter also shorten the enhancer to promoter distance\n",
    "print(table(pred57a$UTRbin)) # but only one UTR bin, since the shifts were all done within <128bp, therefore not necessarily affecting the bin location of the UTR, which is further downstream of the enhancer\n"
   ]
  },
  {
   "cell_type": "code",
   "execution_count": 38,
   "id": "a6b2b3b2-1585-483a-8ab1-a7c32349f341",
   "metadata": {},
   "outputs": [
    {
     "name": "stdout",
     "output_type": "stream",
     "text": [
      "                       geno agg_pred_UTR_CAGE agg_pred_UTR_DNAse69\n",
      "1   CGislandDel-AHR_AHR_AHR          1.363139            0.1280745\n",
      "2  CGislandDel-AHR_PU1_TF65          2.227390            0.5076635\n",
      "3  CGislandDel-AHR_TF65_AHR          1.396349            0.1288258\n",
      "4         CGislandDel-BACH1          1.416735            0.1515100\n",
      "5          CGislandDel-BATF          1.479889            0.1670778\n",
      "6 CGislandDel-BCH1_PU1_BCH1          3.647366            1.1961827\n",
      "  agg_pred_UTR_H3K27ac\n",
      "1             3.600427\n",
      "2             4.369290\n",
      "3             3.545560\n",
      "4             3.533661\n",
      "5             3.653272\n",
      "6             5.496392\n",
      "                       geno agg_pred_enh_CAGE agg_pred_enh_DNAse69\n",
      "1   CGislandDel-AHR_AHR_AHR       -0.76039348            -1.863607\n",
      "2  CGislandDel-AHR_PU1_TF65        1.63367143             2.590776\n",
      "3  CGislandDel-AHR_TF65_AHR       -0.57044825            -1.699803\n",
      "4         CGislandDel-BACH1       -0.66893239            -1.769667\n",
      "5          CGislandDel-BATF        0.06115556             1.062906\n",
      "6 CGislandDel-BCH1_PU1_BCH1        3.78921602             4.207176\n",
      "  agg_pred_enh_H3K27ac\n",
      "1             1.472423\n",
      "2             4.695261\n",
      "3             1.735788\n",
      "4             1.704161\n",
      "5             3.183506\n",
      "6             7.100963\n",
      "   geno agg_pred_UTR_CAGE agg_pred_UTR_DNAse69 agg_pred_UTR_H3K27ac\n",
      "95  alt          3.909509            0.6506783             5.567423\n",
      "96  ref          3.689170            0.5324156             5.464721\n"
     ]
    }
   ],
   "source": [
    "%%R\n",
    "## compute averages\n",
    "\n",
    "XDF = pred57a\n",
    "avg_pred_dfs_UTR = do.call(cbind,lapply(c('CAGE','DNAse69','H3K27ac'),function(x){data.frame(data.frame(XDF %>% \n",
    "                                                                         filter(is_extUTRbin == \"TRUE\") %>% \n",
    "                                                                         group_by(id,geno) %>% \n",
    "                                                                                    summarize(logsum = log2(sum(.data[[x]], na.rm = TRUE)), .groups='drop') )\n",
    "                                                              %>% group_by(geno) %>% summarize(avg = mean(logsum,na.rm=T)))}))[,c(1,2,4,6)]\n",
    "colnames(avg_pred_dfs_UTR) = c('geno',paste0('agg_pred_UTR_',c('CAGE','DNAse69','H3K27ac')))\n",
    "\n",
    "sd_pred_dfs_UTR = do.call(cbind,lapply(c('CAGE','DNAse69','H3K27ac'),function(x){data.frame(data.frame(XDF %>% \n",
    "                                                                         filter(is_extUTRbin == \"TRUE\") %>% \n",
    "                                                                         group_by(id,geno) %>% \n",
    "                                                                                    summarize(logsum = log2(sum(.data[[x]], na.rm = TRUE)), .groups='drop') )\n",
    "                                                              %>% group_by(geno) %>% summarize(avg = sd(logsum,na.rm=T)))}))[,c(1,2,4,6)]\n",
    "\n",
    "colnames(sd_pred_dfs_UTR) = c('geno',paste0('agg_pred_SD_UTR_',c('CAGE','DNAse69','H3K27ac')))\n",
    "\n",
    "avg_pred_dfs_enh = do.call(cbind,lapply(c('CAGE','DNAse69','H3K27ac'),function(x){data.frame(data.frame(XDF %>% \n",
    "                                                                         filter(is_extBSbin == \"TRUE\") %>% \n",
    "                                                                         group_by(id,geno) %>% \n",
    "                                                                                    summarize(logsum = log2(sum(.data[[x]], na.rm = TRUE)), .groups='drop') )\n",
    "                                                              %>% group_by(geno) %>% summarize(avg = mean(logsum,na.rm=T)))}))[,c(1,2,4,6)]\n",
    "colnames(avg_pred_dfs_enh) = c('geno',paste0('agg_pred_enh_',c('CAGE','DNAse69','H3K27ac')))\n",
    "\n",
    "sd_pred_dfs_enh = do.call(cbind,lapply(c('CAGE','DNAse69','H3K27ac'),function(x){data.frame(data.frame(XDF %>% \n",
    "                                                                         filter(is_extBSbin == \"TRUE\") %>% \n",
    "                                                                         group_by(id,geno) %>% \n",
    "                                                                                    summarize(logsum = log2(sum(.data[[x]], na.rm = TRUE)), .groups='drop') )\n",
    "                                                              %>% group_by(geno) %>% summarize(avg = sd(logsum,na.rm=T)))}))[,c(1,2,4,6)]\n",
    "colnames(sd_pred_dfs_enh) = c('geno',paste0('agg_pred_SD_enh_',c('CAGE','DNAse69','H3K27ac')))\n",
    "\n",
    "print(head(avg_pred_dfs_UTR))\n",
    "print(head(avg_pred_dfs_enh))\n",
    "\n",
    "print(head(avg_pred_dfs_UTR[avg_pred_dfs_UTR$geno %in% c('ref','alt'),]))\n",
    "\n"
   ]
  },
  {
   "cell_type": "code",
   "execution_count": 42,
   "id": "2ad4fe21-4aca-4b35-bff8-62f53b267270",
   "metadata": {},
   "outputs": [
    {
     "name": "stdout",
     "output_type": "stream",
     "text": [
      "                       geno agg_pred_UTR_CAGE agg_pred_UTR_DNAse69\n",
      "1   CGislandDel-AHR_AHR_AHR          1.363139            0.1280745\n",
      "2  CGislandDel-AHR_PU1_TF65          2.227390            0.5076635\n",
      "3  CGislandDel-AHR_TF65_AHR          1.396349            0.1288258\n",
      "4         CGislandDel-BACH1          1.416735            0.1515100\n",
      "5          CGislandDel-BATF          1.479889            0.1670778\n",
      "6 CGislandDel-BCH1_PU1_BCH1          3.647366            1.1961827\n",
      "  agg_pred_UTR_H3K27ac agg_pred_SD_UTR_CAGE agg_pred_SD_UTR_DNAse69\n",
      "1             3.600427            0.9996123               0.2086080\n",
      "2             4.369290            1.0637288               0.1865373\n",
      "3             3.545560            1.0415712               0.2038824\n",
      "4             3.533661            0.9931093               0.2392857\n",
      "5             3.653272            1.0271885               0.2654551\n",
      "6             5.496392            0.8393532               0.1882620\n",
      "  agg_pred_SD_UTR_H3K27ac agg_pred_enh_CAGE agg_pred_enh_DNAse69\n",
      "1               0.6110301       -0.76039348            -1.863607\n",
      "2               0.3866747        1.63367143             2.590776\n",
      "3               0.6144435       -0.57044825            -1.699803\n",
      "4               0.7839317       -0.66893239            -1.769667\n",
      "5               0.8462687        0.06115556             1.062906\n",
      "6               0.2809576        3.78921602             4.207176\n",
      "  agg_pred_enh_H3K27ac agg_pred_SD_enh_CAGE agg_pred_SD_enh_DNAse69\n",
      "1             1.472423            0.2215982              0.06854370\n",
      "2             4.695261            0.3036902              0.23934340\n",
      "3             1.735788            0.1341051              0.07551673\n",
      "4             1.704161            0.1707962              0.07218528\n",
      "5             3.183506            0.2325003              0.43673532\n",
      "6             7.100963            0.1729376              0.06007688\n",
      "  agg_pred_SD_enh_H3K27ac\n",
      "1              0.20146786\n",
      "2              0.25795596\n",
      "3              0.17490328\n",
      "4              0.12524711\n",
      "5              0.36092724\n",
      "6              0.09495548\n"
     ]
    }
   ],
   "source": [
    "%%R\n",
    "# save to file\n",
    "enh = merge(avg_pred_dfs_enh,sd_pred_dfs_enh,by='geno')\n",
    "UTR = merge(avg_pred_dfs_UTR,sd_pred_dfs_UTR,by='geno')\n",
    "avgsd_df= merge(UTR,enh,by='geno')\n",
    "print(head(avgsd_df))\n",
    "\n",
    "#write.csv(avgsd_df,'/outpath/SUM_PRED_5p7_logsumacross_bins_avg_across_3BCs_and_10POS_CAGE_DNAS269_K27ac_3binsUTR_7bins_enh_with_SD_pred_of_2024_10_21.csv',row.names=F)\n"
   ]
  },
  {
   "cell_type": "code",
   "execution_count": null,
   "id": "e2bc9cda-6cb1-4025-8e4b-8dc4a44b3dfd",
   "metadata": {},
   "outputs": [],
   "source": []
  }
 ],
 "metadata": {
  "kernelspec": {
   "display_name": "Python 3.9",
   "language": "python",
   "name": "python3_9"
  },
  "language_info": {
   "codemirror_mode": {
    "name": "ipython",
    "version": 3
   },
   "file_extension": ".py",
   "mimetype": "text/x-python",
   "name": "python",
   "nbconvert_exporter": "python",
   "pygments_lexer": "ipython3",
   "version": "3.9.5"
  }
 },
 "nbformat": 4,
 "nbformat_minor": 5
}
