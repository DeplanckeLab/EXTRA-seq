{
 "cells": [
  {
   "cell_type": "code",
   "execution_count": null,
   "id": "f9dace7c-9551-4a86-bc78-3777bd9a6348",
   "metadata": {},
   "outputs": [],
   "source": [
    "import gc\n",
    "import itertools\n",
    "import matplotlib.pyplot as plt\n",
    "import numpy as np\n",
    "import random\n",
    "\n",
    "import pandas as pd\n",
    "import rpy2.rinterface as rinterface\n",
    "import rpy2.robjects as robjects\n",
    "import tqdm\n",
    "import seaborn as sns\n",
    "import scipy.stats as stats\n",
    "\n",
    "from itertools import compress\n",
    "from Bio import motifs\n",
    "from Bio.Seq import Seq #, IUPAC\n",
    "from collections import Counter\n",
    "from os import listdir\n",
    "from os.path import join\n",
    "from rpy2.robjects.packages import importr\n",
    "from rpy2.robjects import pandas2ri\n",
    "from scipy.stats import ks_2samp\n",
    "from statistics import mean, median\n",
    "\n",
    "%load_ext rpy2.ipython\n",
    "\n",
    "%matplotlib inline\n",
    "pandas2ri.activate()\n",
    "plt.ioff()"
   ]
  },
  {
   "cell_type": "code",
   "execution_count": null,
   "id": "62fac92d-1230-48a3-8410-5414db0d1c74",
   "metadata": {},
   "outputs": [],
   "source": [
    "def readin_fastq(core_path,filename):\n",
    "    seqsraw = pd.read_csv(join(core_path,filename),sep=\"\\t\",header=None)  # txt files are tab-separated that is why we say that the seperator is \"tab\" represented by \"\\t\" (sep = \"\\t\")\n",
    "    seqs = seqsraw.iloc[range(1,seqsraw.shape[0],4),:]\n",
    "    return(seqs)"
   ]
  },
  {
   "cell_type": "code",
   "execution_count": null,
   "id": "54d73936-b3aa-4c59-87e9-f5c201052b69",
   "metadata": {},
   "outputs": [],
   "source": [
    "core_path = '/path_to_fastq_files/'\n",
    "\n",
    "files = listdir(core_path)\n",
    "filesx = list(compress(files, [\"libname\" in i for i in files])) # e.g. 5p7 (use a string specific to the library fastq files)\n",
    "ffiles= list(compress(filesx, [\"R1\" in i for i in filesx])) # for EXTRA-seq data, the relevant BC is in read1, only for the STARR-seq library 3.5 is the BC in read2 due to a different assembly strategy.\n",
    "\n",
    "# split files into genomic (g) DNA and mRNA samples\n",
    "dnafiles = list(compress(ffiles,['gDNA' in i for i in ffiles]))\n",
    "print(dnafiles)\n",
    "rnafiles = list(compress(ffiles,['mRNA' in i for i in ffiles]))\n",
    "print(rnafiles)\n",
    "\n",
    "repl = 5 # define number of replicates (corresponds to the number of fastq files for that library\n"
   ]
  },
  {
   "cell_type": "code",
   "execution_count": null,
   "id": "511869f3-f519-458c-ae0c-652a93e670f7",
   "metadata": {},
   "outputs": [],
   "source": [
    "# make sure the replicates are actually in order in the rnafiles and dnafiles list!\n",
    "\n",
    "mRNA_seqs = [readin_fastq(core_path,rnafiles[x]) for x in range(repl)]\n",
    "gDNA_seqs = [readin_fastq(core_path,dnafiles[x]) for x in range(repl)]\n"
   ]
  },
  {
   "cell_type": "code",
   "execution_count": null,
   "id": "720bc223-be7d-48e8-86d5-45458dae4ae4",
   "metadata": {},
   "outputs": [],
   "source": [
    "## function to extract and count BCs\n",
    "\n",
    "pri_flank = 'GACAGACC' # this is the upstream seqeunce of the fixed exogenous primer that was placed upstream of the Barcode in the 5'UTR\n",
    "loxp= 'ATAACTTC' # loxP seqeunce which is located downstream ot the barcode seqeunce\n",
    "\n",
    "def count_BC(fastq,le,ri,start,end,coln = ['prim_flank','prim_flank_sh', 'lox_fl', 'BC']):\n",
    "    \n",
    "    # fastq = fastq file from mRNA_seqs or gDNA_seqs\n",
    "    # le = primer flank seqeunce = pri_flank\n",
    "    #ri = loxP seqeunce = loxp\n",
    "    #start = the position where the BC starts in read 1, this is known and si 20 for EXTRA-seq libraries, be aware this number needs to be adjusted for the STARR-seq libraries (according to the respective design)\n",
    "    #end = of barcode, depends on the number of Ns used in the Barcode (N= 10,12, or 14) \n",
    "    # coln = names of columuns the function extracts\n",
    "    \n",
    "    BC =  [fastq.iloc[x,0][start:end] for x in range(fastq.shape[0])] # extract barcode\n",
    "    le_fl = [fastq.iloc[x,0][0:start] for x in range(fastq.shape[0])] # extract flanks\n",
    "    le_fl_sh = [fastq.iloc[x,0][(start-8):start] for x in range(fastq.shape[0])] # extract flanks\n",
    "    ri_fl = [fastq.iloc[x,0][end:(end+8)] for x in range(fastq.shape[0])] # extract flanks\n",
    "    DF = pd.DataFrame(np.column_stack([le_fl,le_fl_sh, ri_fl, BC]), \n",
    "                               columns=coln) # combine all to data frame\n",
    "    DFk = DF[ DF[coln[2]]==ri] # keep only BC seqs where flanks are correct\n",
    "\n",
    "    DFf = DFk[ DFk[coln[1]]==le] # keep only BC seqs where flanks are correct\n",
    "    cdf = pd.DataFrame.from_dict(Counter(DFf[coln[3]]), orient='index').reset_index() # count BCs\n",
    "    return(cdf)"
   ]
  },
  {
   "cell_type": "code",
   "execution_count": null,
   "id": "79f7df95-9bef-4f4c-b4b5-3bf8b7c0f401",
   "metadata": {},
   "outputs": [],
   "source": [
    "# example for 12bp BC library, i.e. 5.7 library\n",
    "DFg = [count_BC(gDNA_seqs[x],pri_flank,loxp,20,32,coln = ['prim_flank','prim_flank_sh', 'lox_fl', 'BC']) for x in range(len(gDNA_seqs))]\n"
   ]
  },
  {
   "cell_type": "markdown",
   "id": "54b5b44c-f7bf-42a3-9d1e-29e2a56be28f",
   "metadata": {},
   "source": [
    "### Save to file\n"
   ]
  },
  {
   "cell_type": "code",
   "execution_count": null,
   "id": "ea232cfd-3ce0-4098-aec5-cab5ac389589",
   "metadata": {},
   "outputs": [],
   "source": [
    "#example\n",
    "DFg[0].to_csv('/lib_path/count_data_BC12bp_read1_flank_checked_RMCE_5p7_19_8_7_cyc_gDNA_rep1_11_20_2023.csv') # file names includes information about PCR cycle numbers during amplification"
   ]
  }
 ],
 "metadata": {
  "kernelspec": {
   "display_name": "Python 3.9",
   "language": "python",
   "name": "python3_9"
  },
  "language_info": {
   "codemirror_mode": {
    "name": "ipython",
    "version": 3
   },
   "file_extension": ".py",
   "mimetype": "text/x-python",
   "name": "python",
   "nbconvert_exporter": "python",
   "pygments_lexer": "ipython3",
   "version": "3.9.5"
  }
 },
 "nbformat": 4,
 "nbformat_minor": 5
}
